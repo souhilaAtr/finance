{
 "cells": [
  {
   "cell_type": "code",
   "execution_count": 1,
   "id": "1c2ad9b4-ce21-4304-bc67-f898b4d3f983",
   "metadata": {},
   "outputs": [],
   "source": [
    "import spacy\n",
    "import logging\n",
    "import json\n",
    "from IPython.display import display, JSON"
   ]
  },
  {
   "cell_type": "code",
   "execution_count": 2,
   "id": "11f6e8c6",
   "metadata": {},
   "outputs": [],
   "source": [
    "logging.basicConfig(level=logging.DEBUG)\n"
   ]
  },
  {
   "cell_type": "code",
   "execution_count": 3,
   "id": "0d7afec5",
   "metadata": {},
   "outputs": [
    {
     "name": "stderr",
     "output_type": "stream",
     "text": [
      "DEBUG:root:Analyzing sentence: facture 355 000 455 dumaine sylvain\n",
      "DEBUG:root:Analyzing sentence: consommation dieppe client bien\n"
     ]
    },
    {
     "data": {
      "application/json": {
       "client": "consommation dieppe client bien",
       "consommation": "consommation dieppe client bien",
       "contrat": null,
       "facture": "facture 355 000 455 dumaine sylvain",
       "nom": null,
       "prenom": null
      },
      "text/plain": [
       "<IPython.core.display.JSON object>"
      ]
     },
     "metadata": {
      "application/json": {
       "expanded": false,
       "root": "root"
      }
     },
     "output_type": "display_data"
    }
   ],
   "source": [
    "# Fonction pour traiter les données de Tesseract\n",
    "def process_tesseract_data(tesseract_output):\n",
    "    # Utilise spaCy pour traiter les données Tesseract\n",
    "    nlp = spacy.load(\"fr_core_news_sm\")\n",
    "    doc = nlp(tesseract_output)\n",
    "\n",
    "    # Initialise les variables pour stocker les données\n",
    "    nom_found = False\n",
    "    prenom_found = False\n",
    "    contrat_found = False\n",
    "    consommation_found = False\n",
    "    facture_found = False\n",
    "    client_found = False\n",
    "    processed_data = {\n",
    "        \"nom\": None,\n",
    "        \"prenom\": None,\n",
    "        \"contrat\": None,\n",
    "        \"consommation\": None,\n",
    "        \"facture\": None,\n",
    "        \"client\": None\n",
    "    }\n",
    "\n",
    "    # Parcourt les phrases du texte\n",
    "    for sentence in doc.sents:\n",
    "        logging.debug(f\"Analyzing sentence: {sentence.text}\")\n",
    "\n",
    "        # Vérifie la présence des mots spécifiés dans la phrase\n",
    "        if \"nom\" in sentence.text:\n",
    "            nom_found = True\n",
    "            processed_data[\"nom\"] = sentence.text\n",
    "\n",
    "        if \"prenom\" in sentence.text:\n",
    "            prenom_found = True\n",
    "            processed_data[\"prenom\"] = sentence.text\n",
    "\n",
    "        if \"contrat\" in sentence.text:\n",
    "            contrat_found = True\n",
    "            processed_data[\"contrat\"] = sentence.text\n",
    "\n",
    "        if \"consommation\" in sentence.text:\n",
    "            consommation_found = True\n",
    "            processed_data[\"consommation\"] = sentence.text\n",
    "\n",
    "        if \"facture\" in sentence.text:\n",
    "            facture_found = True\n",
    "            processed_data[\"facture\"] = sentence.text\n",
    "\n",
    "        if \"client\" in sentence.text:\n",
    "            client_found = True\n",
    "            processed_data[\"client\"] = sentence.text\n",
    "\n",
    "    return processed_data\n",
    "\n",
    "# Récupère les données Tesseract à partir de l'entrée utilisateur\n",
    "tesseract_output = input(\"Entrez la sortie Tesseract : \")\n",
    "\n",
    "# Traite les données Tesseract avec spaCy\n",
    "result = process_tesseract_data(tesseract_output)\n",
    "\n",
    "# Convertit les résultats en JSON et affiche\n",
    "display(JSON(result))"
   ]
  }
 ],
 "metadata": {
  "kernelspec": {
   "display_name": "Python 3 (ipykernel)",
   "language": "python",
   "name": "python3"
  },
  "language_info": {
   "codemirror_mode": {
    "name": "ipython",
    "version": 3
   },
   "file_extension": ".py",
   "mimetype": "text/x-python",
   "name": "python",
   "nbconvert_exporter": "python",
   "pygments_lexer": "ipython3",
   "version": "3.11.2"
  }
 },
 "nbformat": 4,
 "nbformat_minor": 5
}
